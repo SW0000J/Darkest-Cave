{
 "metadata": {
  "language_info": {
   "codemirror_mode": {
    "name": "ipython",
    "version": 3
   },
   "file_extension": ".py",
   "mimetype": "text/x-python",
   "name": "python",
   "nbconvert_exporter": "python",
   "pygments_lexer": "ipython3",
   "version": "3.8.8"
  },
  "orig_nbformat": 2,
  "kernelspec": {
   "name": "python3",
   "display_name": "Python 3.8.8 64-bit ('ML': venv)"
  },
  "interpreter": {
   "hash": "3bf6701e02832dd2a5ff2db11815ba5e3181d882c9793ad793cd6c8a8d13a17d"
  }
 },
 "nbformat": 4,
 "nbformat_minor": 2,
 "cells": [
  {
   "cell_type": "code",
   "execution_count": 4,
   "source": [
    "import time\r\n",
    "from selenium import webdriver\r\n",
    "import urllib.request\r\n",
    "\r\n",
    "# 크롤러 실행\r\n",
    "driver = webdriver.Chrome()  # Optional argument, if not specified will search path.\r\n",
    "driver.get('https://www.google.co.kr/imghp?hl=ko')\r\n",
    "time.sleep(2) # Let the user actually see something!\r\n",
    "\r\n",
    "# 검색창에 검색\r\n",
    "search_box = driver.find_element_by_name('q')\r\n",
    "search_box.send_keys('horror texture')\r\n",
    "search_box.submit()\r\n",
    "time.sleep(1.5)"
   ],
   "outputs": [],
   "metadata": {}
  },
  {
   "cell_type": "code",
   "execution_count": 2,
   "source": [
    "SCROLL_PAUSE_SEC = 2\r\n",
    "\r\n",
    "# 스크롤 높이 가져옴\r\n",
    "last_height = driver.execute_script(\"return document.body.scrollHeight\")\r\n",
    "\r\n",
    "while True:\r\n",
    "    # 끝까지 스크롤 다운\r\n",
    "    driver.execute_script(\"window.scrollTo(0, document.body.scrollHeight);\")\r\n",
    "\r\n",
    "    # 1초 대기\r\n",
    "    time.sleep(SCROLL_PAUSE_SEC)\r\n",
    "\r\n",
    "    # 스크롤 다운 후 스크롤 높이 다시 가져옴\r\n",
    "    new_height = driver.execute_script(\"return document.body.scrollHeight\")\r\n",
    "    if new_height == last_height:\r\n",
    "        try:\r\n",
    "            driver.find_element_by_css_selector(\".mye4qd\").click()\r\n",
    "            print(\"click\")\r\n",
    "        except:\r\n",
    "            break\r\n",
    "        \r\n",
    "    last_height = new_height"
   ],
   "outputs": [
    {
     "output_type": "stream",
     "name": "stdout",
     "text": [
      "click\n"
     ]
    }
   ],
   "metadata": {}
  },
  {
   "cell_type": "code",
   "execution_count": 20,
   "source": [
    "count = 1\r\n",
    "images = driver.find_elements_by_css_selector(\".rg_i.Q4LuWd\")\r\n",
    "\r\n",
    "stock = [\"stock\", \"istockphoto\", \"shutterstock\", \"adobe\", \"dreamstime\", \"encrypted\", \"as1\", \"previews\"]\r\n",
    "\r\n",
    "for image in images:\r\n",
    "        image.click()\r\n",
    "        time.sleep(1.5)\r\n",
    "        image_url = driver.find_element_by_xpath(\"/html/body/div[2]/c-wiz/div[3]/div[2]/div[3]/div/div/div[3]/div[2]/c-wiz/div/div[1]/div[1]/div[2]/div[1]/a/img\").get_attribute(\"src\")\r\n",
    "        \r\n",
    "        # stock 예외처리\r\n",
    "        for i in stock:\r\n",
    "            isStock = i in image_url\r\n",
    "            if not isStock:\r\n",
    "                urllib.request.urlretrieve(image_url, \"styleimage\\{}.jpg\".format(\"horror\" + str(count)))\r\n",
    "                count += 1\r\n",
    "            else:\r\n",
    "                continue"
   ],
   "outputs": [
    {
     "output_type": "error",
     "ename": "SyntaxError",
     "evalue": "unexpected character after line continuation character (<ipython-input-20-8827d20f4b2b>, line 15)",
     "traceback": [
      "\u001b[1;36m  File \u001b[1;32m\"<ipython-input-20-8827d20f4b2b>\"\u001b[1;36m, line \u001b[1;32m15\u001b[0m\n\u001b[1;33m    urllib.request.urlretrieve(image_url, styleimage\\{}.jpg\".format(\"horror\" + str(count)))\u001b[0m\n\u001b[1;37m                                                                                           ^\u001b[0m\n\u001b[1;31mSyntaxError\u001b[0m\u001b[1;31m:\u001b[0m unexpected character after line continuation character\n"
     ]
    }
   ],
   "metadata": {}
  },
  {
   "cell_type": "code",
   "execution_count": null,
   "source": [
    "time.sleep(2) # Let the user actually see something!\r\n",
    "driver.quit()"
   ],
   "outputs": [],
   "metadata": {}
  }
 ]
}