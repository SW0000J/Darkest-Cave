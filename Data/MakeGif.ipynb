{
 "cells": [
  {
   "cell_type": "code",
   "execution_count": 2,
   "source": [
    "import imageio\n",
    "import os\n",
    "import glob"
   ],
   "outputs": [],
   "metadata": {}
  },
  {
   "cell_type": "code",
   "execution_count": 3,
   "source": [
    "path = \"Styled_Images\"\n",
    "file_list = os.listdir(path)"
   ],
   "outputs": [
    {
     "output_type": "stream",
     "name": "stdout",
     "text": [
      "file_list: ['Layer 1_sprite_01_styled_0.png', 'Layer 1_sprite_01_styled_1.png', 'Layer 1_sprite_01_styled_2.png', 'Layer 1_sprite_01_styled_3.png', 'Layer 1_sprite_01_styled_4.png', 'Layer 1_sprite_01_styled_5.png', 'Layer 1_sprite_01_styled_6.png', 'Layer 1_sprite_01_styled_7.png', 'Layer 1_sprite_01_styled_8.png', 'Layer 1_sprite_01_styled_9.png', 'Layer 1_sprite_01_styled_10.png', 'Layer 1_sprite_01_styled_11.png', 'Layer 1_sprite_01_styled_12.png', 'Layer 1_sprite_01_styled_13.png', 'Layer 1_sprite_01_styled_14.png', 'Layer 1_sprite_01_styled_15.png', 'Layer 1_sprite_01_styled_16.png', 'Layer 1_sprite_01_styled_17.png', 'Layer 1_sprite_01_styled_18.png', 'Layer 1_sprite_01_styled_19.png', 'Layer 1_sprite_01_styled_20.png', 'Layer 1_sprite_01_styled_21.png', 'Layer 1_sprite_01_styled_22.png', 'Layer 1_sprite_01_styled_23.png', 'Layer 1_sprite_01_styled_24.png', 'Layer 1_sprite_01_styled_25.png', 'Layer 1_sprite_01_styled_26.png', 'Layer 1_sprite_01_styled_27.png']\n"
     ]
    }
   ],
   "metadata": {}
  },
  {
   "cell_type": "code",
   "execution_count": null,
   "source": [
    "director = r'Styled_Images'\n",
    "filetype = r'png'\n",
    "save_gif_name = r'sprite_gif'\n",
    "frame = {'duration' : 0.08}"
   ],
   "outputs": [],
   "metadata": {}
  }
 ],
 "metadata": {
  "orig_nbformat": 4,
  "kernelspec": {
   "name": "python3",
   "display_name": "Python 3",
   "language": "python"
  },
  "language_info": {
   "name": "python",
   "version": "3.7.11",
   "mimetype": "text/x-python",
   "codemirror_mode": {
    "name": "ipython",
    "version": 3
   },
   "pygments_lexer": "ipython3",
   "nbconvert_exporter": "python",
   "file_extension": ".py"
  }
 },
 "nbformat": 4,
 "nbformat_minor": 2
}