{
 "cells": [
  {
   "cell_type": "code",
   "execution_count": 2,
   "source": [
    "import imageio\n",
    "import glob\n",
    "images = []\n",
    "\n",
    "path = \"Styled_Images/*\"\n",
    "filenames = glob.glob(path)\n",
    "\n",
    "for filename in filenames:\n",
    "    images.append(imageio.imread(filename))\n",
    "imageio.mimsave('Styled_Images/Test.gif', images)"
   ],
   "outputs": [],
   "metadata": {}
  },
  {
   "cell_type": "code",
   "execution_count": null,
   "source": [
    "# 투명 배경을 흰색으로 바꾸어 저장하는 코드\n",
    "from PIL import Image\n",
    "\n",
    "png = Image.open(img_path).convert('RGBA')\n",
    "background = Image.new('RGBA', png.size, (255,255,255))\n",
    "\n",
    "alpha_composite = Image.alpha_composite(background, png)\n",
    "alpha_composite.save('foo.jpg', 'JPEG', quality=80)"
   ],
   "outputs": [],
   "metadata": {}
  }
 ],
 "metadata": {
  "orig_nbformat": 4,
  "kernelspec": {
   "name": "python3",
   "display_name": "Python 3",
   "language": "python"
  },
  "language_info": {
   "name": "python",
   "version": "3.7.11",
   "mimetype": "text/x-python",
   "codemirror_mode": {
    "name": "ipython",
    "version": 3
   },
   "pygments_lexer": "ipython3",
   "nbconvert_exporter": "python",
   "file_extension": ".py"
  }
 },
 "nbformat": 4,
 "nbformat_minor": 2
}