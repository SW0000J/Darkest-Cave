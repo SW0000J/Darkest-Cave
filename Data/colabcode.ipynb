{
  "nbformat": 4,
  "nbformat_minor": 0,
  "metadata": {
    "colab": {
      "name": "colabcode.ipynb",
      "provenance": [],
      "collapsed_sections": []
    },
    "kernelspec": {
      "name": "python3",
      "display_name": "Python 3"
    },
    "language_info": {
      "name": "python"
    },
    "accelerator": "GPU"
  },
  "cells": [
    {
      "source": [
        "# 해당 ipynb 파일은 google colab에서 동작시켜야 합니다\n",
        "\n",
        "\n",
        "\n",
        "## https://research.google.com/colaboratory/\n",
        "## SSH Remote 접속을 코딩할 때마다 해야하는 불편함이 있습니다.\n",
        "## 원격 VS Code에서 코딩하는 파일은 Google Drive에 마운트 됩니다."
      ],
      "cell_type": "markdown",
      "metadata": {}
    },
    {
      "cell_type": "code",
      "metadata": {
        "id": "pMnoRGb_g4z8"
      },
      "source": [
        "# NGROK_TOKEN은 계정마다 다릅니다\n",
        "\n",
        "NGROK_TOKEN = '본인 auth token'\n",
        "PASSWORD = 'SWTUBE'"
      ],
      "execution_count": null,
      "outputs": []
    },
    {
      "cell_type": "markdown",
      "metadata": {
        "id": "G_z-XcPahVjY"
      },
      "source": [
        "#GPU 확인"
      ]
    },
    {
      "cell_type": "code",
      "metadata": {
        "colab": {
          "base_uri": "https://localhost:8080/"
        },
        "id": "PeNKSnyvhR7b",
        "outputId": "4f373800-b5ed-4dec-9923-35654e243fd7"
      },
      "source": [
        "!nvidia-smi"
      ],
      "execution_count": null,
      "outputs": []
    },
    {
      "cell_type": "markdown",
      "metadata": {
        "id": "yZ8_kkMBhaxL"
      },
      "source": [
        "#Google Drive 마운트\n",
        "\n",
        "왼쪽 폴더 - 구글 드라이브 마운트"
      ]
    },
    {
      "cell_type": "markdown",
      "metadata": {
        "id": "cPpo036tiMtN"
      },
      "source": [
        "#Colab-SSH로 접속하기"
      ]
    },
    {
      "cell_type": "code",
      "metadata": {
        "colab": {
          "base_uri": "https://localhost:8080/"
        },
        "id": "iinKilpVh4C1",
        "outputId": "a7860446-af77-4878-b732-57d4a4f9772c"
      },
      "source": [
        "!pip install colab-ssh"
      ],
      "execution_count": null,
      "outputs": []
    },
    {
      "cell_type": "code",
      "metadata": {
        "colab": {
          "base_uri": "https://localhost:8080/"
        },
        "id": "SSLcbroYh8ew",
        "outputId": "b4ee27bd-4b54-4382-eb2a-8e955acde800"
      },
      "source": [
        "from colab_ssh import launch_ssh\n",
        "\n",
        "launch_ssh(NGROK_TOKEN, PASSWORD)"
      ],
      "execution_count": null,
      "outputs": []
    }
  ]
}